{
 "cells": [
  {
   "cell_type": "code",
   "execution_count": 46,
   "metadata": {},
   "outputs": [],
   "source": [
    "import numpy as np\n",
    "import pandas as pd\n",
    "import cv2\n",
    "import pytesseract\n",
    "from glob import glob\n",
    "import spacy\n",
    "from spacy import displacy\n",
    "import re\n",
    "import string\n",
    "import warnings\n",
    "warnings.filterwarnings(\"ignore\")\n",
    "\n",
    "model_ner = spacy.load(\"./output/model-best\")"
   ]
  },
  {
   "cell_type": "code",
   "execution_count": 47,
   "metadata": {},
   "outputs": [],
   "source": [
    "def cleanText(text):\n",
    "    whiteSpace = string.whitespace\n",
    "    punctuation = '!#$%&\\'()*+:;<=>?[\\\\]^`{|}~'\n",
    "    tableWhiteSpace = str.maketrans('','', whiteSpace)\n",
    "    tablePunctuation = str.maketrans('','', punctuation)\n",
    "    text = str(text)\n",
    "    text = text.lower()\n",
    "    removeWhiteSpace = text.translate(tableWhiteSpace)\n",
    "    removePunctuation = removeWhiteSpace.translate(tablePunctuation)\n",
    "\n",
    "    return str(removePunctuation)"
   ]
  },
  {
   "cell_type": "code",
   "execution_count": 48,
   "metadata": {},
   "outputs": [],
   "source": [
    "class groupgen():\n",
    "    def __init__(self):\n",
    "        self.id = 0\n",
    "        self.text = 0\n",
    "\n",
    "    def getgroup(self, text):\n",
    "        if self.text == text:\n",
    "            return self.id\n",
    "        else:\n",
    "            self.id += 1\n",
    "            self.text = text\n",
    "            return self.id\n",
    "        \n",
    "grp_gen = groupgen()"
   ]
  },
  {
   "cell_type": "code",
   "execution_count": 49,
   "metadata": {},
   "outputs": [],
   "source": [
    "image = cv2.imread(\"./data/6.jpeg\")\n",
    "\n",
    "tessdata = pytesseract.image_to_data(image)\n",
    "dataList = list(map(lambda x: x.split(\"\\t\"), tessdata.split(\"\\n\")))\n",
    "dataFrame = pd.DataFrame(dataList[1:], columns = dataList[0])\n",
    "dataFrame.dropna(inplace=True)\n",
    "dataFrame[\"text\"] = dataFrame[\"text\"].apply(cleanText)\n",
    "dataClean = dataFrame.query(\"text != ''\")\n",
    "content = \" \".join([w for w in dataClean[\"text\"]])\n",
    "doc = model_ner(content)"
   ]
  },
  {
   "cell_type": "code",
   "execution_count": 50,
   "metadata": {},
   "outputs": [],
   "source": [
    "doc_json = doc.to_json()\n",
    "doc_text = doc_json[\"text\"]\n",
    "dataFrame_token = pd.DataFrame(doc_json[\"tokens\"])\n",
    "dataFrame_token[\"token\"] = dataFrame_token[[\"start\", \"end\"]].apply(lambda x:doc_text[x[0]:x[1]], axis = 1)\n",
    "right_table = pd.DataFrame(doc_json[\"ents\"])[[\"start\", \"label\"]]\n",
    "dataFrame_token = pd.merge(dataFrame_token, right_table, how = \"left\", on = \"start\")\n",
    "dataFrame_token.fillna(\"O\", inplace = True)"
   ]
  },
  {
   "cell_type": "code",
   "execution_count": 51,
   "metadata": {},
   "outputs": [],
   "source": [
    "dataClean[\"end\"] = dataClean['text'].apply(lambda x: len(x)+1).cumsum() - 1\n",
    "dataClean[\"start\"]=dataClean[['text','end']].apply(lambda x: x[1]-len(x[0]),axis=1)"
   ]
  },
  {
   "cell_type": "code",
   "execution_count": 52,
   "metadata": {},
   "outputs": [],
   "source": [
    "dataFrame_info = pd.merge(dataClean, dataFrame_token[[\"start\", \"token\", \"label\"]], how = \"inner\", on = \"start\")"
   ]
  },
  {
   "cell_type": "code",
   "execution_count": null,
   "metadata": {},
   "outputs": [],
   "source": [
    "boundingBoxFrame = dataFrame_info.query(\"label != 'O'\")\n",
    "\n",
    "img = image.copy()\n",
    "\n",
    "for x, y, w, h, label in boundingBoxFrame[[\"left\", \"top\", \"width\", \"height\", \"label\"]].values:\n",
    "    x = int(x)\n",
    "    y = int(y)\n",
    "    w = int(w)\n",
    "    h = int(h)\n",
    "\n",
    "    cv2.rectangle(img, (x,y), (x+w, y+h), (0,255,0), 3)\n",
    "    cv2.putText(img, str(label), (x,y), cv2.FONT_HERSHEY_PLAIN, 1, (0,0,255), 2)\n",
    "\n",
    "cv2.imshow(\"Predictions\", img)\n",
    "cv2.waitKey(0)\n",
    "cv2.destroyAllWindows()\n",
    "boundingBoxFrame[\"label\"] = boundingBoxFrame[\"label\"].apply(lambda x: x[2:])\n",
    "boundingBoxFrame[\"group\"] = boundingBoxFrame[\"label\"].apply(grp_gen.getgroup)\n",
    "boundingBoxFrame[[\"left\", \"top\", \"width\", \"height\"]] = boundingBoxFrame[[\"left\", \"top\", \"width\", \"height\"]].astype(int)\n",
    "boundingBoxFrame[\"right\"] = boundingBoxFrame[\"left\"] + boundingBoxFrame[\"width\"]\n",
    "boundingBoxFrame[\"bottom\"] = boundingBoxFrame[\"top\"] + boundingBoxFrame[\"height\"]\n",
    "boundingBoxFrame"
   ]
  },
  {
   "cell_type": "code",
   "execution_count": 53,
   "metadata": {},
   "outputs": [],
   "source": [
    "def parser(text, label):\n",
    "    if label == \"PHONE\":\n",
    "        text = text.lower()\n",
    "        text = re.sub(r\"\\D\",\"\", text)\n",
    "\n",
    "    elif label == \"EMAIL\":\n",
    "        text = text.lower()\n",
    "        allow_special_chars = \"@_.\\-\"\n",
    "        text = re.sub(r\"[^A-Za-z0-9{}]\".format(allow_special_chars), \"\", text)\n",
    "    \n",
    "    elif label == \"WEB\":\n",
    "        text = text.lower()\n",
    "        allow_special_chars = \"_.\\-:/%#\"\n",
    "        text = re.sub(r\"[^A-Za-z0-9{}]\".format(allow_special_chars), \"\", text)\n",
    "    \n",
    "    elif label in (\"NAME\", \"DES\"):\n",
    "        text = text.lower()\n",
    "        text = re.sub(r\"[^a-z ]\", \"\", text)\n",
    "        text = text.title()\n",
    "\n",
    "    elif label == \"ORG\":\n",
    "        text = text.lower()\n",
    "        text = re.sub(r\"[^a-z0-9 ]\", \"\", text)\n",
    "        text = text.title()\n",
    "        \n",
    "    return text"
   ]
  },
  {
   "cell_type": "code",
   "execution_count": 54,
   "metadata": {},
   "outputs": [],
   "source": [
    "info_array = dataFrame_info[[\"token\", \"label\"]].values\n",
    "entities = dict(NAME=[], ORG=[], DES=[], PHONE=[], EMAIL=[], WEB = [])\n",
    "previous = \"O\"\n",
    "\n",
    "for token, label in info_array:\n",
    "    bio_tag = label[0]\n",
    "    label_tag = label[2:]\n",
    "\n",
    "    text = parser(token, label_tag)\n",
    "\n",
    "    if bio_tag in (\"B\", \"I\"):\n",
    "        if previous != label_tag:\n",
    "            entities[label_tag].append(text)\n",
    "        else:\n",
    "            if bio_tag == \"B\":\n",
    "                entities[label_tag].append(text)\n",
    "            else:\n",
    "                if label_tag in (\"NAME\", \"ORG\", \"DES\"):\n",
    "                    entities[label_tag][-1] = entities[label_tag][-1] + \" \" + text\n",
    "                else:\n",
    "                    entities[label_tag][-1] = entities[label_tag][-1] + text\n",
    "    \n",
    "    previous = label_tag"
   ]
  },
  {
   "cell_type": "code",
   "execution_count": 55,
   "metadata": {},
   "outputs": [
    {
     "data": {
      "text/plain": [
       "{'NAME': ['Thathineni Srikanth'],\n",
       " 'ORG': ['Life Insurance Corporation Of India',\n",
       "  'Life Insurance Corporation Of India'],\n",
       " 'DES': ['Insurance Advisor'],\n",
       " 'PHONE': ['8099948528', '8466045457'],\n",
       " 'EMAIL': ['lictsrikant@gmail.com', 'seosrikantht@gmail.com'],\n",
       " 'WEB': ['interviewsinhyderabad.blogspot.in']}"
      ]
     },
     "execution_count": 55,
     "metadata": {},
     "output_type": "execute_result"
    }
   ],
   "source": [
    "entities"
   ]
  },
  {
   "cell_type": "code",
   "execution_count": null,
   "metadata": {},
   "outputs": [],
   "source": []
  }
 ],
 "metadata": {
  "interpreter": {
   "hash": "b89b5cfaba6639976dc87ff2fec6d58faec662063367e2c229c520fe71072417"
  },
  "kernelspec": {
   "display_name": "Python 3 (ipykernel)",
   "language": "python",
   "name": "python3"
  },
  "language_info": {
   "codemirror_mode": {
    "name": "ipython",
    "version": 3
   },
   "file_extension": ".py",
   "mimetype": "text/x-python",
   "name": "python",
   "nbconvert_exporter": "python",
   "pygments_lexer": "ipython3",
   "version": "3.10.0"
  }
 },
 "nbformat": 4,
 "nbformat_minor": 2
}
