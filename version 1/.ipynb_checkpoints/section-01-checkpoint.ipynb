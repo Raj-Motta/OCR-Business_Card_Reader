{
 "cells": [
  {
   "cell_type": "markdown",
   "metadata": {},
   "source": []
  },
  {
   "cell_type": "code",
   "execution_count": null,
   "metadata": {},
   "outputs": [],
   "source": [
    "import numpy as np\n",
    "import pandas as pd\n",
    "import cv2\n",
    "import pytesseract"
   ]
  },
  {
   "cell_type": "code",
   "execution_count": null,
   "metadata": {},
   "outputs": [],
   "source": [
    "img = cv2.imread(\"./Selected/052.jpeg\")\n",
    "\n",
    "#cv2.imshow(\"Business Card\", img)\n",
    "cv2.waitKey(0)\n",
    "cv2.destroyAllWindows()"
   ]
  },
  {
   "cell_type": "code",
   "execution_count": null,
   "metadata": {},
   "outputs": [],
   "source": [
    "data = pytesseract.image_to_data(img)\n",
    "dataList = list(map(lambda x: x.split(\"\\t\"), data.split(\"\\n\")))\n",
    "dataFrame = pd.DataFrame(dataList[1:], columns = dataList[0])\n",
    "dataFrame.dropna(inplace=True) # drop the missing in rows\n",
    "col_int = ['level','page_num','block_num','par_num','line_num','word_num','left','top','width','height','conf']\n",
    "dataFrame[col_int] = dataFrame[col_int].astype(int)"
   ]
  },
  {
   "cell_type": "code",
   "execution_count": null,
   "metadata": {},
   "outputs": [],
   "source": [
    "image = img.copy()\n",
    "level = \"word\"\n",
    "for l,x,y,w,h,c,txt in dataFrame[['level','left','top','width','height','conf','text']].values:\n",
    "    if level == \"page\":\n",
    "        if l == 1:\n",
    "            cv2.rectangle(image, (x,y), (x+w,y+h), (0,0,0), 5)\n",
    "        else:\n",
    "            continue\n",
    "    elif level == \"block\":\n",
    "        if l == 2:\n",
    "            cv2.rectangle(image, (x,y), (x+w,y+h), (255,0,0), 2)\n",
    "        else:\n",
    "            continue\n",
    "    elif level == \"para\":\n",
    "        if l == 3:\n",
    "            cv2.rectangle(image, (x,y), (x+w,y+h), (0,255,0), 2)\n",
    "        else:\n",
    "            continue\n",
    "    elif level == \"line\":\n",
    "        if l == 4:\n",
    "            cv2.rectangle(image, (x,y), (x+w,y+h), (0,0,255), 2)\n",
    "        else:\n",
    "            continue\n",
    "    elif level == \"word\":\n",
    "        if l == 5:\n",
    "            cv2.rectangle(image, (x,y), (x+w,y+h), (0,0,0), 2)\n",
    "            cv2.putText(image,txt,(x,y),cv2.FONT_HERSHEY_PLAIN,1,(255,0,0),2)\n",
    "        else:\n",
    "            continue\n",
    "        \n",
    "cv2.imshow(\"Bounded Image\", image)\n",
    "cv2.waitKey(0)\n",
    "cv2.destroyAllWindows()"
   ]
  },
  {
   "cell_type": "code",
   "execution_count": null,
   "metadata": {},
   "outputs": [],
   "source": []
  },
  {
   "cell_type": "code",
   "execution_count": null,
   "metadata": {},
   "outputs": [],
   "source": []
  }
 ],
 "metadata": {
  "interpreter": {
   "hash": "6915e039d38ad00056e3ce00bf2481d502d5184e53d194f25447d308ee5db7a7"
  },
  "kernelspec": {
   "display_name": "Python 3 (ipykernel)",
   "language": "python",
   "name": "python3"
  },
  "language_info": {
   "codemirror_mode": {
    "name": "ipython",
    "version": 3
   },
   "file_extension": ".py",
   "mimetype": "text/x-python",
   "name": "python",
   "nbconvert_exporter": "python",
   "pygments_lexer": "ipython3",
   "version": "3.10.0"
  }
 },
 "nbformat": 4,
 "nbformat_minor": 2
}
