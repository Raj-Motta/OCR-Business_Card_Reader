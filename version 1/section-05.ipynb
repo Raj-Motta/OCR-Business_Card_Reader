{
 "cells": [
  {
   "cell_type": "code",
   "execution_count": 1,
   "id": "79d23518",
   "metadata": {},
   "outputs": [],
   "source": [
    "import cv2\n",
    "import prediction as pred"
   ]
  },
  {
   "cell_type": "code",
   "execution_count": 2,
   "id": "f3ea2abb",
   "metadata": {},
   "outputs": [],
   "source": [
    "image = cv2.imread(\"./Selected/054.jpeg\")\n",
    "cv2.namedWindow(\"Business\", cv2.WINDOW_NORMAL)    \n",
    "cv2.imshow(\"Business\", image)\n",
    "cv2.waitKey(0)\n",
    "cv2.destroyAllWindows()"
   ]
  },
  {
   "cell_type": "code",
   "execution_count": 3,
   "id": "8b9c4af1",
   "metadata": {},
   "outputs": [],
   "source": [
    "img_result,entities = pred.getPredictions(image)"
   ]
  },
  {
   "cell_type": "code",
   "execution_count": 4,
   "id": "658ab5a2",
   "metadata": {},
   "outputs": [
    {
     "name": "stdout",
     "output_type": "stream",
     "text": [
      "{'NAME': ['William J Cunningham'], 'ORG': ['John J Delaney Ing'], 'DES': [], 'PHONE': [], 'EMAIL': [], 'WEB': []}\n"
     ]
    }
   ],
   "source": [
    "cv2.namedWindow(\"Results\", cv2.WINDOW_NORMAL)    \n",
    "cv2.imshow(\"Results\", img_result)\n",
    "cv2.waitKey(0)\n",
    "cv2.destroyAllWindows()\n",
    "print(entities)"
   ]
  },
  {
   "cell_type": "code",
   "execution_count": null,
   "id": "9b7ac002",
   "metadata": {},
   "outputs": [],
   "source": []
  }
 ],
 "metadata": {
  "interpreter": {
   "hash": "b89b5cfaba6639976dc87ff2fec6d58faec662063367e2c229c520fe71072417"
  },
  "kernelspec": {
   "display_name": "Python 3 (ipykernel)",
   "language": "python",
   "name": "python3"
  },
  "language_info": {
   "codemirror_mode": {
    "name": "ipython",
    "version": 3
   },
   "file_extension": ".py",
   "mimetype": "text/x-python",
   "name": "python",
   "nbconvert_exporter": "python",
   "pygments_lexer": "ipython3",
   "version": "3.10.0"
  }
 },
 "nbformat": 4,
 "nbformat_minor": 5
}
