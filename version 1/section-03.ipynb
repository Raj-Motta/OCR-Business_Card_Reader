{
 "cells": [
  {
   "cell_type": "code",
   "execution_count": 9,
   "metadata": {},
   "outputs": [],
   "source": [
    "import numpy as np\n",
    "import pandas as pd\n",
    "import string\n",
    "import re\n",
    "import random\n",
    "import pickle"
   ]
  },
  {
   "cell_type": "code",
   "execution_count": 10,
   "metadata": {},
   "outputs": [],
   "source": [
    "with open(\"businessCard.txt\", mode = \"r\", encoding = \"utf8\", errors = \"ignore\") as f:\n",
    "    text = f.read()\n",
    "dataList = list(map(lambda x:x.split(\"\\t\"),text.split(\"\\n\")))\n",
    "dataFrame = pd.DataFrame(dataList[1:], columns = dataList[0]) \n",
    "dataFrame.dropna(inplace=True)"
   ]
  },
  {
   "cell_type": "code",
   "execution_count": 11,
   "metadata": {},
   "outputs": [],
   "source": [
    "whiteSpace = string.whitespace\n",
    "punctuation = '!#$%&\\'()*+:;<=>?[\\\\]^`{|}~'\n",
    "tableWhiteSpace = str.maketrans('','', whiteSpace)\n",
    "tablePunctuation = str.maketrans('','', punctuation)\n",
    "def cleanText(text):\n",
    "    text = str(text)\n",
    "    text = text.lower()\n",
    "    removeWhiteSpace = text.translate(tableWhiteSpace)\n",
    "    removePunctuation = removeWhiteSpace.translate(tablePunctuation)\n",
    "\n",
    "    return str(removePunctuation)"
   ]
  },
  {
   "cell_type": "code",
   "execution_count": 13,
   "metadata": {},
   "outputs": [
    {
     "name": "stderr",
     "output_type": "stream",
     "text": [
      "C:\\OCR-Business_card\\cardReader\\lib\\site-packages\\pandas\\util\\_decorators.py:311: SettingWithCopyWarning: \n",
      "A value is trying to be set on a copy of a slice from a DataFrame\n",
      "\n",
      "See the caveats in the documentation: https://pandas.pydata.org/pandas-docs/stable/user_guide/indexing.html#returning-a-view-versus-a-copy\n",
      "  return func(*args, **kwargs)\n"
     ]
    }
   ],
   "source": [
    "dataFrame[\"text\"] = dataFrame[\"text\"].apply(cleanText)\n",
    "dataClean = dataFrame.query(\"text != ''\")\n",
    "dataClean.dropna(inplace = True)"
   ]
  },
  {
   "cell_type": "code",
   "execution_count": 14,
   "metadata": {},
   "outputs": [],
   "source": [
    "group = dataClean.groupby(by = \"id\")\n",
    "groupArray = group.get_group('000.jpeg')[[\"text\",\"tag\"]].values\n",
    "content = \"\"\n",
    "annotations = {\"entities\": []}\n",
    "start = 0\n",
    "end = 0\n",
    "\n",
    "for text, label in groupArray:\n",
    "    text = str(text)\n",
    "    stringLen = len(text) + 1\n",
    "\n",
    "    start = end\n",
    "    end = start + stringLen\n",
    "\n",
    "    if label != \"O\":\n",
    "        annot = (start, end-1,label)\n",
    "        annotations[\"entities\"].append(annot)\n",
    "\n",
    "    content = content + text + \" \""
   ]
  },
  {
   "cell_type": "code",
   "execution_count": 15,
   "metadata": {},
   "outputs": [],
   "source": [
    "allCardsData = []\n",
    "group = dataClean.groupby(by = \"id\")\n",
    "cards = group.groups.keys()\n",
    "for card in cards:\n",
    "    cardData = []\n",
    "    groupArray = group.get_group(card)[[\"text\",\"tag\"]].values\n",
    "    content = \"\"\n",
    "    annotations = {\"entities\": []}\n",
    "    start = 0\n",
    "    end = 0\n",
    "\n",
    "    for text, label in groupArray:\n",
    "        text = str(text)\n",
    "        stringLen = len(text) + 1\n",
    "\n",
    "        start = end\n",
    "        end = start + stringLen\n",
    "\n",
    "        if label != \"O\":\n",
    "            annot = (start, end-1,label)\n",
    "            annotations[\"entities\"].append(annot)\n",
    "\n",
    "        content = content + text + \" \"\n",
    "\n",
    "    cardData = (content, annotations)\n",
    "    allCardsData.append(cardData)"
   ]
  },
  {
   "cell_type": "code",
   "execution_count": 16,
   "metadata": {},
   "outputs": [],
   "source": [
    "random.shuffle(allCardsData)\n",
    "TrainData = allCardsData[:240]\n",
    "TestData = allCardsData[240:]"
   ]
  },
  {
   "cell_type": "code",
   "execution_count": 17,
   "metadata": {},
   "outputs": [],
   "source": [
    "pickle.dump(TrainData, open(\"./data/TrainData.pickle\", mode = \"wb\"))\n",
    "pickle.dump(TestData, open(\"./data/TestData.pickle\", mode = \"wb\"))"
   ]
  },
  {
   "cell_type": "code",
   "execution_count": null,
   "metadata": {},
   "outputs": [],
   "source": []
  }
 ],
 "metadata": {
  "interpreter": {
   "hash": "6915e039d38ad00056e3ce00bf2481d502d5184e53d194f25447d308ee5db7a7"
  },
  "kernelspec": {
   "display_name": "Python 3 (ipykernel)",
   "language": "python",
   "name": "python3"
  },
  "language_info": {
   "codemirror_mode": {
    "name": "ipython",
    "version": 3
   },
   "file_extension": ".py",
   "mimetype": "text/x-python",
   "name": "python",
   "nbconvert_exporter": "python",
   "pygments_lexer": "ipython3",
   "version": "3.10.0"
  }
 },
 "nbformat": 4,
 "nbformat_minor": 2
}
